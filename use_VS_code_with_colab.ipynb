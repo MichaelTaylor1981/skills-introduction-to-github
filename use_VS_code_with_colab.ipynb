{
  "nbformat": 4,
  "nbformat_minor": 0,
  "metadata": {
    "colab": {
      "provenance": [],
      "mount_file_id": "https://github.com/MichaelTaylor1981/skills-introduction-to-github/blob/main/use_VS_code_with_colab.ipynb",
      "authorship_tag": "ABX9TyMRijR75WR7meYLiv3neZuQ",
      "include_colab_link": true
    },
    "kernelspec": {
      "name": "python3",
      "display_name": "Python 3"
    },
    "language_info": {
      "name": "python"
    }
  },
  "cells": [
    {
      "cell_type": "markdown",
      "metadata": {
        "id": "view-in-github",
        "colab_type": "text"
      },
      "source": [
        "<a href=\"https://colab.research.google.com/github/MichaelTaylor1981/skills-introduction-to-github/blob/main/use_VS_code_with_colab.ipynb\" target=\"_parent\"><img src=\"https://colab.research.google.com/assets/colab-badge.svg\" alt=\"Open In Colab\"/></a>"
      ]
    },
    {
      "cell_type": "markdown",
      "source": [
        "You can use VS Code with Google Colab by following these steps:\n",
        "\n",
        "Open a new Colab notebook: Go to Google Colab and create a new notebook.\n",
        "\n",
        "Install the colabcode package: In a code cell, run the following command to install the colabcode package:"
      ],
      "metadata": {
        "id": "0qJpgNkugfgX"
      }
    },
    {
      "cell_type": "code",
      "source": [
        "# prompt: print working directory\n",
        "\n",
        "import os\n",
        "print(os.getcwd())\n"
      ],
      "metadata": {
        "id": "gfan7foUiBnV"
      },
      "execution_count": null,
      "outputs": []
    },
    {
      "cell_type": "code",
      "source": [
        "# prompt: Move to MyDrive folder\n",
        "\n",
        "import os\n",
        "%cd /content/drive/MyDrive\n",
        "print(os.getcwd())\n",
        "!ls\n"
      ],
      "metadata": {
        "id": "Pqyz7bOkiX-9",
        "outputId": "6d7e2b47-353a-441a-e6eb-a37f993fd8cd",
        "colab": {
          "base_uri": "https://localhost:8080/"
        }
      },
      "execution_count": 2,
      "outputs": [
        {
          "output_type": "stream",
          "name": "stdout",
          "text": [
            "[Errno 2] No such file or directory: '/content/drive/MyDrive'\n",
            "/content\n",
            "/content\n",
            "sample_data\n"
          ]
        }
      ]
    },
    {
      "cell_type": "code",
      "source": [
        "# 2. Loading Notebooks from GitHub\n",
        "# Public Repositories: You can load notebooks directly from public GitHub repositories. Use the URL format:\n",
        "https://github.com/username/repository/blob/branch/notebook.ipynb\n"
      ],
      "metadata": {
        "id": "0ZlQHWCE6ISq"
      },
      "execution_count": null,
      "outputs": []
    },
    {
      "source": [
        "# Import and configure ColabCode: Import the ColabCode class and create an instance with your desired settings. For example:\n",
        "\n",
        "# Ensure colabcode is installed\n",
        "!pip install colabcode\n",
        "\n",
        "# Import the ColabCode class\n",
        "from colabcode import ColabCode\n",
        "\n",
        "# Create a ColabCode instance\n",
        "ColabCode(port=10000, password=\"your_password\")"
      ],
      "cell_type": "code",
      "metadata": {
        "id": "2xLu-EUY33Uz"
      },
      "execution_count": null,
      "outputs": []
    }
  ]
}