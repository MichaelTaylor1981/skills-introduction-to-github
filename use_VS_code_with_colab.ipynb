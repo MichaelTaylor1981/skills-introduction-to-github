{
  "nbformat": 4,
  "nbformat_minor": 0,
  "metadata": {
    "colab": {
      "provenance": [],
      "mount_file_id": "1ezo-teHrlJRrD68qwmvmRlBgcwsaydMN",
      "authorship_tag": "ABX9TyOhmqYvXsMby5WZlWTznvMj",
      "include_colab_link": true
    },
    "kernelspec": {
      "name": "python3",
      "display_name": "Python 3"
    },
    "language_info": {
      "name": "python"
    }
  },
  "cells": [
    {
      "cell_type": "markdown",
      "metadata": {
        "id": "view-in-github",
        "colab_type": "text"
      },
      "source": [
        "<a href=\"https://colab.research.google.com/github/MichaelTaylor1981/skills-introduction-to-github/blob/main/use_VS_code_with_colab.ipynb\" target=\"_parent\"><img src=\"https://colab.research.google.com/assets/colab-badge.svg\" alt=\"Open In Colab\"/></a>"
      ]
    },
    {
      "cell_type": "markdown",
      "source": [
        "You can use VS Code with Google Colab by following these steps:\n",
        "\n",
        "Open a new Colab notebook: Go to Google Colab and create a new notebook.\n",
        "\n",
        "Install the colabcode package: In a code cell, run the following command to install the colabcode package:"
      ],
      "metadata": {
        "id": "0qJpgNkugfgX"
      }
    },
    {
      "cell_type": "code",
      "source": [
        "# prompt: print working directory\n",
        "\n",
        "import os\n",
        "print(os.getcwd())\n"
      ],
      "metadata": {
        "id": "gfan7foUiBnV"
      },
      "execution_count": null,
      "outputs": []
    },
    {
      "cell_type": "code",
      "source": [
        "# prompt: Move to MyDrive folder\n",
        "\n",
        "import os\n",
        "%cd /content/drive/MyDrive\n",
        "print(os.getcwd())\n",
        "!ls\n"
      ],
      "metadata": {
        "id": "Pqyz7bOkiX-9"
      },
      "execution_count": null,
      "outputs": []
    },
    {
      "source": [
        "# Import and configure ColabCode: Import the ColabCode class and create an instance with your desired settings. For example:\n",
        "\n",
        "# Ensure colabcode is installed\n",
        "!pip install colabcode\n",
        "\n",
        "# Import the ColabCode class\n",
        "from colabcode import ColabCode\n",
        "\n",
        "# Create a ColabCode instance\n",
        "ColabCode(port=10000, password=\"your_password\")"
      ],
      "cell_type": "code",
      "metadata": {
        "id": "2xLu-EUY33Uz"
      },
      "execution_count": null,
      "outputs": []
    }
  ]
}